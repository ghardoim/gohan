{
 "cells": [
  {
   "cell_type": "code",
   "execution_count": null,
   "metadata": {},
   "outputs": [],
   "source": [
    "from instagram_private_api import Client\n",
    "from os import getenv"
   ]
  },
  {
   "cell_type": "code",
   "execution_count": null,
   "metadata": {},
   "outputs": [],
   "source": [
    "eu = Client(getenv(\"INSTA_LOGIN\"), getenv(\"INSTA_PASSWORD\"))"
   ]
  },
  {
   "cell_type": "code",
   "execution_count": null,
   "metadata": {},
   "outputs": [],
   "source": [
    "eu_sigo = eu.user_following(eu.authenticated_user_id, eu.generate_uuid())\n",
    "seguindo = list(map(lambda u: u[\"username\"], eu_sigo[\"users\"]))"
   ]
  },
  {
   "cell_type": "code",
   "execution_count": null,
   "metadata": {},
   "outputs": [],
   "source": [
    "me_segue, meus_seguidores = eu.user_followers(eu.authenticated_user_id, eu.generate_uuid()), []\n",
    "\n",
    "while True:\n",
    "    meus_seguidores.append(me_segue)\n",
    "    if \"next_max_id\" not in me_segue.keys(): break\n",
    "\n",
    "    me_segue = eu.user_followers(eu.authenticated_user_id, eu.generate_uuid(), max_id=me_segue[\"next_max_id\"])\n",
    "\n",
    "meus_seguidores = [user for seguidores in list(map(lambda s: s[\"users\"], meus_seguidores)) for user in seguidores]\n",
    "meus_seguidores = list(map(lambda u: u[\"username\"], meus_seguidores))"
   ]
  },
  {
   "cell_type": "code",
   "execution_count": null,
   "metadata": {},
   "outputs": [],
   "source": [
    "em_comum = list(set(seguindo).intersection(meus_seguidores))\n",
    "for _ in range(0, len(em_comum), 3):\n",
    "    print(\"\".join([f\"@{u} \" for u in em_comum[_:_ + 3]]))"
   ]
  }
 ],
 "metadata": {
  "kernelspec": {
   "display_name": "Python 3.10.4 ('.venv': venv)",
   "language": "python",
   "name": "python3"
  },
  "language_info": {
   "codemirror_mode": {
    "name": "ipython",
    "version": 3
   },
   "file_extension": ".py",
   "mimetype": "text/x-python",
   "name": "python",
   "nbconvert_exporter": "python",
   "pygments_lexer": "ipython3",
   "version": "3.10.4"
  },
  "orig_nbformat": 4,
  "vscode": {
   "interpreter": {
    "hash": "62dcf6da54fdca65b082b8caccbd0657b0af013662af6f58391610300a757004"
   }
  }
 },
 "nbformat": 4,
 "nbformat_minor": 2
}
